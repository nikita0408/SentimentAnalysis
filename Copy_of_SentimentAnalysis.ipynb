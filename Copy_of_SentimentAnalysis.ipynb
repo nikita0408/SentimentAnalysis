{
  "nbformat": 4,
  "nbformat_minor": 0,
  "metadata": {
    "colab": {
      "name": "Copy of SentimentAnalysis.ipynb",
      "provenance": [],
      "collapsed_sections": [],
      "authorship_tag": "ABX9TyN/EMRirby06gy0vG9sj/xG",
      "include_colab_link": true
    },
    "kernelspec": {
      "name": "python3",
      "display_name": "Python 3"
    }
  },
  "cells": [
    {
      "cell_type": "markdown",
      "metadata": {
        "id": "view-in-github",
        "colab_type": "text"
      },
      "source": [
        "<a href=\"https://colab.research.google.com/github/nikita0408/SentimentAnalysis/blob/master/Copy_of_SentimentAnalysis.ipynb\" target=\"_parent\"><img src=\"https://colab.research.google.com/assets/colab-badge.svg\" alt=\"Open In Colab\"/></a>"
      ]
    },
    {
      "cell_type": "code",
      "metadata": {
        "id": "PyYa1jvQlr5f",
        "colab_type": "code",
        "colab": {
          "base_uri": "https://localhost:8080/",
          "height": 50
        },
        "outputId": "f0b309a3-c591-4ff3-9198-dd16e8278c97"
      },
      "source": [
        "#importing libraries\n",
        "import numpy\n",
        "import nltk\n",
        "import re\n",
        "from numpy import array\n",
        "from keras.datasets import imdb\n",
        "from keras.models import Sequential\n",
        "from keras.layers import Dense\n",
        "from keras.layers import LSTM,Dropout\n",
        "from keras.layers.embeddings import Embedding\n",
        "from keras.preprocessing import sequence\n",
        "from keras.models import load_model\n",
        "from nltk.tokenize import word_tokenize\n",
        "\n",
        "#fixing random seed\n",
        "numpy.random.seed(7)\n",
        "\n",
        "#loading dataset just top 5000\n",
        "words=5000\n",
        "(x_train,y_train),(x_test,y_test) = imdb.load_data(num_words=words)\n",
        "\n"
      ],
      "execution_count": null,
      "outputs": [
        {
          "output_type": "stream",
          "text": [
            "Downloading data from https://s3.amazonaws.com/text-datasets/imdb.npz\n",
            "17465344/17464789 [==============================] - 0s 0us/step\n"
          ],
          "name": "stdout"
        }
      ]
    },
    {
      "cell_type": "code",
      "metadata": {
        "id": "9XTnO70CnkKI",
        "colab_type": "code",
        "colab": {}
      },
      "source": [
        "#getting words(using dictionary provided by imdb.get_word_index())\n",
        "wordtoid =imdb.get_word_index()\n",
        "idtoword={i:word for word, i in wordtoid.items()}\n"
      ],
      "execution_count": null,
      "outputs": []
    },
    {
      "cell_type": "code",
      "metadata": {
        "id": "xnUY_OrqpEqO",
        "colab_type": "code",
        "colab": {
          "base_uri": "https://localhost:8080/",
          "height": 50
        },
        "outputId": "516c575f-f346-4915-f4f1-a56a1ca4806b"
      },
      "source": [
        "#maximum review length and minimum review length\n",
        "print('maximum review length : {}'.format(len(max((x_train+x_test),key=len))))\n",
        "print('minimum review length : {}'.format(len(min((x_train+x_test),key=len))))"
      ],
      "execution_count": null,
      "outputs": [
        {
          "output_type": "stream",
          "text": [
            "maximum review length : 2697\n",
            "minimum review length : 70\n"
          ],
          "name": "stdout"
        }
      ]
    },
    {
      "cell_type": "code",
      "metadata": {
        "id": "jefylWJIp705",
        "colab_type": "code",
        "colab": {}
      },
      "source": [
        ""
      ],
      "execution_count": null,
      "outputs": []
    },
    {
      "cell_type": "code",
      "metadata": {
        "id": "rg4XtOOxqBGh",
        "colab_type": "code",
        "colab": {}
      },
      "source": [
        "#bringing all data to same length in order to feed to RNN\n",
        "max_review_length=500\n",
        "x_train=sequence.pad_sequences(x_train,maxlen=max_review_length)\n",
        "x_test=sequence.pad_sequences(x_test,maxlen=max_review_length)"
      ],
      "execution_count": null,
      "outputs": []
    },
    {
      "cell_type": "code",
      "metadata": {
        "id": "SGazR10iqSOF",
        "colab_type": "code",
        "colab": {
          "base_uri": "https://localhost:8080/",
          "height": 1000
        },
        "outputId": "99b80a4e-12d1-42ae-f41b-d7d69780f7f2"
      },
      "source": [
        "#creating the model\n",
        "embedding_vector_len=32\n",
        "model=Sequential()\n",
        "model.add(Embedding(words,embedding_vector_len,input_length=max_review_length))\n",
        "model.add(Dropout(0.2))\n",
        "model.add(LSTM(100))\n",
        "model.add(Dropout(0.2))\n",
        "model.add(Dense(1,activation='sigmoid'))\n",
        "model.compile(loss='binary_crossentropy',optimizer='adam',metrics=['accuracy'])\n",
        "print(model.summary())\n",
        "model.fit(x_train,y_train,validation_data=(x_test,y_test),epochs=30,batch_size=64)"
      ],
      "execution_count": null,
      "outputs": [
        {
          "output_type": "stream",
          "text": [
            "Model: \"sequential_2\"\n",
            "_________________________________________________________________\n",
            "Layer (type)                 Output Shape              Param #   \n",
            "=================================================================\n",
            "embedding_1 (Embedding)      (None, 500, 32)           160000    \n",
            "_________________________________________________________________\n",
            "dropout_1 (Dropout)          (None, 500, 32)           0         \n",
            "_________________________________________________________________\n",
            "lstm_1 (LSTM)                (None, 100)               53200     \n",
            "_________________________________________________________________\n",
            "dropout_2 (Dropout)          (None, 100)               0         \n",
            "_________________________________________________________________\n",
            "dense_1 (Dense)              (None, 1)                 101       \n",
            "=================================================================\n",
            "Total params: 213,301\n",
            "Trainable params: 213,301\n",
            "Non-trainable params: 0\n",
            "_________________________________________________________________\n",
            "None\n"
          ],
          "name": "stdout"
        },
        {
          "output_type": "stream",
          "text": [
            "/usr/local/lib/python3.6/dist-packages/tensorflow/python/framework/indexed_slices.py:434: UserWarning: Converting sparse IndexedSlices to a dense Tensor of unknown shape. This may consume a large amount of memory.\n",
            "  \"Converting sparse IndexedSlices to a dense Tensor of unknown shape. \"\n"
          ],
          "name": "stderr"
        },
        {
          "output_type": "stream",
          "text": [
            "Train on 25000 samples, validate on 25000 samples\n",
            "Epoch 1/30\n",
            "25000/25000 [==============================] - 312s 12ms/step - loss: 0.4520 - accuracy: 0.7829 - val_loss: 0.3243 - val_accuracy: 0.8671\n",
            "Epoch 2/30\n",
            "25000/25000 [==============================] - 310s 12ms/step - loss: 0.2912 - accuracy: 0.8846 - val_loss: 0.3317 - val_accuracy: 0.8611\n",
            "Epoch 3/30\n",
            "25000/25000 [==============================] - 306s 12ms/step - loss: 0.2403 - accuracy: 0.9057 - val_loss: 0.2930 - val_accuracy: 0.8789\n",
            "Epoch 4/30\n",
            "25000/25000 [==============================] - 309s 12ms/step - loss: 0.2586 - accuracy: 0.8968 - val_loss: 0.3497 - val_accuracy: 0.8511\n",
            "Epoch 5/30\n",
            "25000/25000 [==============================] - 310s 12ms/step - loss: 0.2052 - accuracy: 0.9229 - val_loss: 0.3107 - val_accuracy: 0.8736\n",
            "Epoch 6/30\n",
            "25000/25000 [==============================] - 316s 13ms/step - loss: 0.1821 - accuracy: 0.9309 - val_loss: 0.3551 - val_accuracy: 0.8710\n",
            "Epoch 7/30\n",
            "25000/25000 [==============================] - 316s 13ms/step - loss: 0.1665 - accuracy: 0.9372 - val_loss: 0.3738 - val_accuracy: 0.8665\n",
            "Epoch 8/30\n",
            "25000/25000 [==============================] - 318s 13ms/step - loss: 0.1641 - accuracy: 0.9385 - val_loss: 0.3602 - val_accuracy: 0.8691\n",
            "Epoch 9/30\n",
            "25000/25000 [==============================] - 313s 13ms/step - loss: 0.1647 - accuracy: 0.9377 - val_loss: 0.3925 - val_accuracy: 0.8698\n",
            "Epoch 10/30\n",
            "25000/25000 [==============================] - 313s 13ms/step - loss: 0.1555 - accuracy: 0.9404 - val_loss: 0.4150 - val_accuracy: 0.8530\n",
            "Epoch 11/30\n",
            "25000/25000 [==============================] - 312s 12ms/step - loss: 0.1217 - accuracy: 0.9559 - val_loss: 0.4442 - val_accuracy: 0.8668\n",
            "Epoch 12/30\n",
            "25000/25000 [==============================] - 312s 12ms/step - loss: 0.1444 - accuracy: 0.9447 - val_loss: 0.4439 - val_accuracy: 0.8544\n",
            "Epoch 13/30\n",
            "25000/25000 [==============================] - 312s 12ms/step - loss: 0.1004 - accuracy: 0.9649 - val_loss: 0.4699 - val_accuracy: 0.8655\n",
            "Epoch 14/30\n",
            "25000/25000 [==============================] - 315s 13ms/step - loss: 0.0928 - accuracy: 0.9674 - val_loss: 0.4967 - val_accuracy: 0.8648\n",
            "Epoch 15/30\n",
            "25000/25000 [==============================] - 311s 12ms/step - loss: 0.0935 - accuracy: 0.9658 - val_loss: 0.5283 - val_accuracy: 0.8623\n",
            "Epoch 16/30\n",
            "25000/25000 [==============================] - 311s 12ms/step - loss: 0.0889 - accuracy: 0.9688 - val_loss: 0.5554 - val_accuracy: 0.8608\n",
            "Epoch 17/30\n",
            "25000/25000 [==============================] - 315s 13ms/step - loss: 0.0781 - accuracy: 0.9729 - val_loss: 0.5264 - val_accuracy: 0.8576\n",
            "Epoch 18/30\n",
            "25000/25000 [==============================] - 315s 13ms/step - loss: 0.0934 - accuracy: 0.9673 - val_loss: 0.4776 - val_accuracy: 0.8588\n",
            "Epoch 19/30\n",
            "25000/25000 [==============================] - 313s 13ms/step - loss: 0.0954 - accuracy: 0.9654 - val_loss: 0.4843 - val_accuracy: 0.8615\n",
            "Epoch 20/30\n",
            "25000/25000 [==============================] - 314s 13ms/step - loss: 0.1054 - accuracy: 0.9640 - val_loss: 0.5325 - val_accuracy: 0.8650\n",
            "Epoch 21/30\n",
            "25000/25000 [==============================] - 319s 13ms/step - loss: 0.0650 - accuracy: 0.9798 - val_loss: 0.6019 - val_accuracy: 0.8596\n",
            "Epoch 22/30\n",
            "25000/25000 [==============================] - 312s 12ms/step - loss: 0.1539 - accuracy: 0.9409 - val_loss: 0.4511 - val_accuracy: 0.8562\n",
            "Epoch 23/30\n",
            "25000/25000 [==============================] - 320s 13ms/step - loss: 0.0917 - accuracy: 0.9675 - val_loss: 0.5625 - val_accuracy: 0.8648\n",
            "Epoch 24/30\n",
            "25000/25000 [==============================] - 310s 12ms/step - loss: 0.0575 - accuracy: 0.9814 - val_loss: 0.5700 - val_accuracy: 0.8670\n",
            "Epoch 25/30\n",
            "25000/25000 [==============================] - 309s 12ms/step - loss: 0.0467 - accuracy: 0.9846 - val_loss: 0.6597 - val_accuracy: 0.8583\n",
            "Epoch 26/30\n",
            "25000/25000 [==============================] - 312s 12ms/step - loss: 0.0515 - accuracy: 0.9834 - val_loss: 0.5791 - val_accuracy: 0.8556\n",
            "Epoch 27/30\n",
            "25000/25000 [==============================] - 309s 12ms/step - loss: 0.0360 - accuracy: 0.9893 - val_loss: 0.6419 - val_accuracy: 0.8549\n",
            "Epoch 28/30\n",
            "25000/25000 [==============================] - 310s 12ms/step - loss: 0.0389 - accuracy: 0.9879 - val_loss: 0.7264 - val_accuracy: 0.8620\n",
            "Epoch 29/30\n",
            "25000/25000 [==============================] - 311s 12ms/step - loss: 0.0393 - accuracy: 0.9884 - val_loss: 0.7257 - val_accuracy: 0.8604\n",
            "Epoch 30/30\n",
            "25000/25000 [==============================] - 314s 13ms/step - loss: 0.0429 - accuracy: 0.9866 - val_loss: 0.7125 - val_accuracy: 0.8590\n"
          ],
          "name": "stdout"
        },
        {
          "output_type": "execute_result",
          "data": {
            "text/plain": [
              "<keras.callbacks.callbacks.History at 0x7f1f5cd08da0>"
            ]
          },
          "metadata": {
            "tags": []
          },
          "execution_count": 12
        }
      ]
    },
    {
      "cell_type": "code",
      "metadata": {
        "id": "JF0SWIOEsfHp",
        "colab_type": "code",
        "colab": {
          "base_uri": "https://localhost:8080/",
          "height": 34
        },
        "outputId": "f3e7acfb-232f-4913-c582-dcda02aca7f6"
      },
      "source": [
        "score=model.evaluate(x_test,y_test,verbose=0)\n",
        "print(\"Accuracy: %.2f%%\" % (score[1]*100))"
      ],
      "execution_count": null,
      "outputs": [
        {
          "output_type": "stream",
          "text": [
            "Accuracy: 85.90%\n"
          ],
          "name": "stdout"
        }
      ]
    },
    {
      "cell_type": "code",
      "metadata": {
        "id": "QkCmuWTIthZS",
        "colab_type": "code",
        "colab": {
          "base_uri": "https://localhost:8080/",
          "height": 222
        },
        "outputId": "784ecd2d-7681-49a9-e4a3-97681e909635"
      },
      "source": [
        "#performing authorization for google drive\n",
        "!apt-get install -y -qq software-properties-common python-software-properties module-init-tools\n",
        "!add-apt-repository -y ppa:alessandro-strada/ppa 2>&1 > /dev/null\n",
        "!apt-get update -qq 2>&1 > /dev/null\n",
        "!apt-get -y install -qq google-drive-ocamlfuse fuse\n",
        "from google.colab import auth\n",
        "auth.authenticate_user()\n",
        "from oauth2client.client import GoogleCredentials\n",
        "creds = GoogleCredentials.get_application_default()\n",
        "import getpass\n",
        "!google-drive-ocamlfuse -headless -id={creds.client_id} -secret={creds.client_secret} < /dev/null 2>&1 | grep URL\n",
        "vcode = getpass.getpass()\n",
        "!echo {vcode} | google-drive-ocamlfuse -headless -id={creds.client_id} -secret={creds.client_secret}\n"
      ],
      "execution_count": null,
      "outputs": [
        {
          "output_type": "stream",
          "text": [
            "E: Package 'python-software-properties' has no installation candidate\n",
            "Selecting previously unselected package google-drive-ocamlfuse.\n",
            "(Reading database ... 144429 files and directories currently installed.)\n",
            "Preparing to unpack .../google-drive-ocamlfuse_0.7.21-0ubuntu1~ubuntu18.04.1_amd64.deb ...\n",
            "Unpacking google-drive-ocamlfuse (0.7.21-0ubuntu1~ubuntu18.04.1) ...\n",
            "Setting up google-drive-ocamlfuse (0.7.21-0ubuntu1~ubuntu18.04.1) ...\n",
            "Processing triggers for man-db (2.8.3-2ubuntu0.1) ...\n",
            "Please, open the following URL in a web browser: https://accounts.google.com/o/oauth2/auth?client_id=32555940559.apps.googleusercontent.com&redirect_uri=urn%3Aietf%3Awg%3Aoauth%3A2.0%3Aoob&scope=https%3A%2F%2Fwww.googleapis.com%2Fauth%2Fdrive&response_type=code&access_type=offline&approval_prompt=force\n",
            "··········\n",
            "Please, open the following URL in a web browser: https://accounts.google.com/o/oauth2/auth?client_id=32555940559.apps.googleusercontent.com&redirect_uri=urn%3Aietf%3Awg%3Aoauth%3A2.0%3Aoob&scope=https%3A%2F%2Fwww.googleapis.com%2Fauth%2Fdrive&response_type=code&access_type=offline&approval_prompt=force\n",
            "Please enter the verification code: Access token retrieved correctly.\n"
          ],
          "name": "stdout"
        }
      ]
    },
    {
      "cell_type": "code",
      "metadata": {
        "id": "sL9iXzEXHDKt",
        "colab_type": "code",
        "colab": {
          "base_uri": "https://localhost:8080/",
          "height": 50
        },
        "outputId": "dd8c50ba-f859-4201-9209-39985c5aa8f5"
      },
      "source": [
        "#mount google drive\n",
        "!mkdir -p drive\n",
        "!google-drive-ocamlfuse drive"
      ],
      "execution_count": null,
      "outputs": [
        {
          "output_type": "stream",
          "text": [
            "fuse: mountpoint is not empty\n",
            "fuse: if you are sure this is safe, use the 'nonempty' mount option\n"
          ],
          "name": "stdout"
        }
      ]
    },
    {
      "cell_type": "code",
      "metadata": {
        "id": "o3jxpzAVHOmK",
        "colab_type": "code",
        "colab": {
          "base_uri": "https://localhost:8080/",
          "height": 1000
        },
        "outputId": "a6f8df49-d778-490e-dc8e-839ef20b67bd"
      },
      "source": [
        "#creating directory\n",
        "import os\n",
        "os.mkdir(\"/content/drive/Sentiment_Analysis\")\n",
        "os.chdir(\"/content/drive/\")\n",
        "!ls"
      ],
      "execution_count": null,
      "outputs": [
        {
          "output_type": "stream",
          "text": [
            " 6_2012589_e_27_tcs601\n",
            " 6_2012589_e_27_tcs604\n",
            " 6_2012589_e_27_tcs610\n",
            " 6_2012589_e_27_tcs671\n",
            " 6_2012589_e_27_tcs693\n",
            " 6_2012589_e_27_xcs601\n",
            " Aafreen.vcf\n",
            " Aakash2.vcf\n",
            " Aakash.vcf\n",
            "'Aditi Di (20721758).vcf'\n",
            "'Aditi Di.vcf'\n",
            " Aditi.vcf\n",
            "'Aditya Aman.vcf'\n",
            "'Agrima Dabral.vcf'\n",
            " Air-datasets.zip.rar\n",
            " Akshita.vcf\n",
            "'Akshita Walia.vcf'\n",
            " Akshi.vcf\n",
            " algo.desktop\n",
            " algo.pdf\n",
            " Amartaya.vcf\n",
            "'Amir Shaikh Sir.vcf'\n",
            " Amma.vcf\n",
            " anushri.desktop\n",
            "'B612_20171020_143146 (70f250f2).jpg'\n",
            " B612_20171020_143146.jpg\n",
            "'B612_20171020_143157 (0d32b4ff).jpg'\n",
            " B612_20171020_143157.jpg\n",
            "'B612_20171020_143203 (fe3a2554).jpg'\n",
            " B612_20171020_143203.jpg\n",
            "'B612_20171020_143205 (71cddc4c).jpg'\n",
            " B612_20171020_143205.jpg\n",
            "'B612_20171020_143207 (ce71b04e).jpg'\n",
            " B612_20171020_143207.jpg\n",
            " bdafile.rtf\n",
            " BeautyPlus_20171030095642_save.jpg\n",
            " BeautyPlus_20171205175303_save.jpg\n",
            " BeautyPlus_20180121222325_save.jpg\n",
            " BeautyPlus_20180121222453_save.jpg\n",
            " BeautyPlus_20180121223137_save.jpg\n",
            " BeautyPlus_20180121223256_save.jpg\n",
            " cbnstLab.7z\n",
            " Classroom\n",
            "'Colab Notebooks'\n",
            "'Data Structure Lecture 1 (Arrays, Linked List).mp4'\n",
            "'DBMS 5th BDA'\n",
            "'DBMS 5th BDA.desktop'\n",
            "'DBMS for 5th SEM BDA.pdf.enc'\n",
            " Doc1.docx\n",
            " dv6_2019\n",
            " dv6_2019.desktop\n",
            "'Getting started'\n",
            "'Google Photos'\n",
            " IMG-20170802-WA0009.jpg\n",
            " IMG-20170802-WA0011.jpg\n",
            " IMG-20170807-WA0010.jpg\n",
            " IMG-20170809-WA0009.jpg\n",
            " IMG_20170814_175110.jpg\n",
            " IMG_20170814_175128.jpg\n",
            " IMG_20170826_124713.jpg\n",
            " IMG_20170826_124719.jpg\n",
            " IMG_20170828_150409.jpg\n",
            " IMG_20171005_142253.jpg\n",
            " IMG-20171005-WA0049.jpg\n",
            " IMG_20171007_115241.jpg\n",
            " IMG_20171007_115316.jpg\n",
            " IMG_20171007_115318.jpg\n",
            " IMG_20171007_115638.jpg\n",
            " IMG_20171007_201018.jpg\n",
            " IMG_20171007_201024.jpg\n",
            " IMG_20171007_201027.jpg\n",
            " IMG_20171007_201317.jpg\n",
            " IMG_20171007_201323.jpg\n",
            " IMG_20171007_201336.jpg\n",
            " IMG_20171007_202853.jpg\n",
            " IMG_20171007_202855.jpg\n",
            " IMG_20171014_132427.jpg\n",
            " IMG_20171014_132429.jpg\n",
            " IMG_20171014_140907.jpg\n",
            " IMG_20171014_140913.jpg\n",
            " IMG_20171014_140915.jpg\n",
            " IMG_20171019_200046_HHT.jpg\n",
            " IMG_20171019_200052_HHT.jpg\n",
            " IMG_20171019_200103_HHT.jpg\n",
            " IMG_20171019_200107_HHT.jpg\n",
            " IMG_20171019_200650_HHT.jpg\n",
            " IMG_20171020_141933.jpg\n",
            " IMG_20171020_141941.jpg\n",
            " IMG_20171020_142034.jpg\n",
            " IMG_20171020_142037.jpg\n",
            " IMG_20171020_175937.jpg\n",
            " IMG_20171020_181100.jpg\n",
            " IMG_20171029_204834.jpg\n",
            " IMG_20171029_204836.jpg\n",
            " IMG_20171029_204850.jpg\n",
            " IMG_20171029_204855.jpg\n",
            " IMG_20171030_120547.jpg\n",
            " IMG_20171030_120548.jpg\n",
            " IMG_20181117_165800.jpg\n",
            " le5\n",
            " le5.desktop\n",
            " Mumma.vcf\n",
            "'New Microsoft Word Document.desktop'\n",
            " nikita.desktop\n",
            "\"Peterson's solution\"\n",
            "\"Peterson's solution.desktop\"\n",
            "'python-certificate (157921c4).pdf'\n",
            "'python-certificate (6ddd7679).pdf'\n",
            " python-certificate.pdf\n",
            " q1.c\n",
            "'ques1 (d9ecd027).desktop'\n",
            " ques1.desktop\n",
            "'resume (2) (02b176fc).pdf'\n",
            "'resume (2) (1aacd77a).pdf'\n",
            "'resume (2).pdf'\n",
            " sanju.desktop\n",
            " Sentiment_Analysis\n",
            " Snapchat-1069259595.jpg\n",
            " Snapchat-1599120730.jpg\n",
            " Snapchat-1891141201.jpg\n",
            "'Snapchat-1942880451 (fa8ac5d3).jpg'\n",
            " Snapchat-1942880451.jpg\n",
            " Snapchat-2020759887.jpg\n",
            "'spoken-cpp-certificate (2feef00f).pdf'\n",
            "'spoken-cpp-certificate (9f36e068).pdf'\n",
            " spoken-cpp-certificate.pdf\n",
            " structures.pdf\n",
            " surbhi.desktop\n",
            "'Using boxplot.desktop'\n",
            " weblab.rtf\n",
            " xcs6.desktop\n",
            " xcs6.pdf\n"
          ],
          "name": "stdout"
        }
      ]
    },
    {
      "cell_type": "code",
      "metadata": {
        "id": "zoXuar3fHnwK",
        "colab_type": "code",
        "colab": {}
      },
      "source": [
        "#append path\n",
        "import sys\n",
        "sys.path.append('/content/drive/Sentiment_Analysis')\n"
      ],
      "execution_count": null,
      "outputs": []
    },
    {
      "cell_type": "code",
      "metadata": {
        "id": "4o_rguScH29Y",
        "colab_type": "code",
        "colab": {
          "base_uri": "https://localhost:8080/",
          "height": 34
        },
        "outputId": "0257b933-a91f-4630-fbab-bbd237dd8cb8"
      },
      "source": [
        "#save model\n",
        "model.save('/content/drive/Sentiment_Analysis/sentiment_analysis.h5')\n",
        "print(\" saved the model to the disk\")"
      ],
      "execution_count": null,
      "outputs": [
        {
          "output_type": "stream",
          "text": [
            " saved the model to the disk\n"
          ],
          "name": "stdout"
        }
      ]
    },
    {
      "cell_type": "code",
      "metadata": {
        "id": "HbIIT0iMIVyW",
        "colab_type": "code",
        "colab": {
          "base_uri": "https://localhost:8080/",
          "height": 34
        },
        "outputId": "6dc8031f-39bf-494d-cd54-a320c18dfd83"
      },
      "source": [
        "os.chdir(\"/content/drive/Sentiment_Analysis\")\n",
        "!ls"
      ],
      "execution_count": null,
      "outputs": [
        {
          "output_type": "stream",
          "text": [
            "sentiment_analysis.h5\n"
          ],
          "name": "stdout"
        }
      ]
    },
    {
      "cell_type": "code",
      "metadata": {
        "id": "PxdWXecDIffc",
        "colab_type": "code",
        "colab": {
          "base_uri": "https://localhost:8080/",
          "height": 87
        },
        "outputId": "f86bb8a7-cff4-40e1-8aba-de00085c8ced"
      },
      "source": [
        "#load the saved model\n",
        "model = load_model('/content/drive/Sentiment_Analysis/sentiment_analysis.h5')\n",
        "print(\"Model Loaded\")"
      ],
      "execution_count": null,
      "outputs": [
        {
          "output_type": "stream",
          "text": [
            "/usr/local/lib/python3.6/dist-packages/tensorflow/python/framework/indexed_slices.py:434: UserWarning: Converting sparse IndexedSlices to a dense Tensor of unknown shape. This may consume a large amount of memory.\n",
            "  \"Converting sparse IndexedSlices to a dense Tensor of unknown shape. \"\n"
          ],
          "name": "stderr"
        },
        {
          "output_type": "stream",
          "text": [
            "Model Loaded\n"
          ],
          "name": "stdout"
        }
      ]
    }
  ]
}